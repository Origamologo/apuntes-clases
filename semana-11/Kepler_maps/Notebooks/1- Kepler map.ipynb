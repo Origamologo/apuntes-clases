{
 "cells": [
  {
   "cell_type": "markdown",
   "id": "8c490e83",
   "metadata": {
    "toc": true
   },
   "source": [
    "<h1>Table of Contents<span class=\"tocSkip\"></span></h1>\n",
    "<div class=\"toc\"><ul class=\"toc-item\"><li><span><a href=\"#Libraries\" data-toc-modified-id=\"Libraries-1\"><span class=\"toc-item-num\">1&nbsp;&nbsp;</span>Libraries</a></span></li><li><span><a href=\"#Crimes-in-Nueva-York\" data-toc-modified-id=\"Crimes-in-Nueva-York-2\"><span class=\"toc-item-num\">2&nbsp;&nbsp;</span>Crimes in Nueva York</a></span><ul class=\"toc-item\"><li><span><a href=\"#Time-to-map-the-dataset\" data-toc-modified-id=\"Time-to-map-the-dataset-2.1\"><span class=\"toc-item-num\">2.1&nbsp;&nbsp;</span>Time to map the dataset</a></span><ul class=\"toc-item\"><li><span><a href=\"#Configuration\" data-toc-modified-id=\"Configuration-2.1.1\"><span class=\"toc-item-num\">2.1.1&nbsp;&nbsp;</span>Configuration</a></span></li><li><span><a href=\"#Save-the-configuration-in-.py-file\" data-toc-modified-id=\"Save-the-configuration-in-.py-file-2.1.2\"><span class=\"toc-item-num\">2.1.2&nbsp;&nbsp;</span>Save the configuration in .py file</a></span></li><li><span><a href=\"#Save-the-map\" data-toc-modified-id=\"Save-the-map-2.1.3\"><span class=\"toc-item-num\">2.1.3&nbsp;&nbsp;</span>Save the map</a></span></li></ul></li></ul></li><li><span><a href=\"#Time-series-in-Kepler\" data-toc-modified-id=\"Time-series-in-Kepler-3\"><span class=\"toc-item-num\">3&nbsp;&nbsp;</span>Time series in Kepler</a></span></li><li><span><a href=\"#Uk-movements\" data-toc-modified-id=\"Uk-movements-4\"><span class=\"toc-item-num\">4&nbsp;&nbsp;</span>Uk movements</a></span></li></ul></div>"
   ]
  },
  {
   "cell_type": "markdown",
   "id": "51c1145b",
   "metadata": {},
   "source": [
    "![portada](https://miro.medium.com/max/7077/1*0l-WeqdtYRruoV_XxS-ZKg.png)"
   ]
  },
  {
   "cell_type": "markdown",
   "id": "01aa7db9",
   "metadata": {},
   "source": [
    "# Libraries "
   ]
  },
  {
   "cell_type": "code",
   "execution_count": 1,
   "id": "ff0b714c",
   "metadata": {
    "scrolled": true
   },
   "outputs": [
    {
     "name": "stderr",
     "output_type": "stream",
     "text": [
      "/usr/local/Caskroom/miniconda/base/envs/kepler/lib/python3.8/site-packages/geopandas/_compat.py:106: UserWarning: The Shapely GEOS version (3.8.0-CAPI-1.13.1 ) is incompatible with the GEOS version PyGEOS was compiled with (3.9.1-CAPI-1.14.2). Conversions between both will be slow.\n",
      "  warnings.warn(\n"
     ]
    }
   ],
   "source": [
    "import pandas as pd\n",
    "import geopandas as gpd\n",
    "from keplergl import KeplerGl"
   ]
  },
  {
   "cell_type": "markdown",
   "id": "fe8635a5",
   "metadata": {},
   "source": [
    "# Crimes in Nueva York "
   ]
  },
  {
   "cell_type": "code",
   "execution_count": 7,
   "id": "f19e219c",
   "metadata": {},
   "outputs": [],
   "source": [
    "df = pd.read_csv(\"../Input/NYPD_Shoot_.csv\", index_col = 0)"
   ]
  },
  {
   "cell_type": "code",
   "execution_count": 8,
   "id": "13594057",
   "metadata": {},
   "outputs": [
    {
     "data": {
      "text/html": [
       "<div>\n",
       "<style scoped>\n",
       "    .dataframe tbody tr th:only-of-type {\n",
       "        vertical-align: middle;\n",
       "    }\n",
       "\n",
       "    .dataframe tbody tr th {\n",
       "        vertical-align: top;\n",
       "    }\n",
       "\n",
       "    .dataframe thead th {\n",
       "        text-align: right;\n",
       "    }\n",
       "</style>\n",
       "<table border=\"1\" class=\"dataframe\">\n",
       "  <thead>\n",
       "    <tr style=\"text-align: right;\">\n",
       "      <th></th>\n",
       "      <th>INCIDENT_KEY</th>\n",
       "      <th>OCCUR_DATE</th>\n",
       "      <th>OCCUR_TIME</th>\n",
       "      <th>BORO</th>\n",
       "      <th>PRECINCT</th>\n",
       "      <th>JURISDICTION_CODE</th>\n",
       "      <th>LOCATION_DESC</th>\n",
       "      <th>STATISTICAL_MURDER_FLAG</th>\n",
       "      <th>PERP_AGE_GROUP</th>\n",
       "      <th>PERP_SEX</th>\n",
       "      <th>PERP_RACE</th>\n",
       "      <th>VIC_AGE_GROUP</th>\n",
       "      <th>VIC_SEX</th>\n",
       "      <th>VIC_RACE</th>\n",
       "      <th>X_COORD_CD</th>\n",
       "      <th>Y_COORD_CD</th>\n",
       "      <th>Latitude</th>\n",
       "      <th>Longitude</th>\n",
       "      <th>New Georeferenced Column</th>\n",
       "      <th>icon</th>\n",
       "    </tr>\n",
       "  </thead>\n",
       "  <tbody>\n",
       "    <tr>\n",
       "      <th>1528</th>\n",
       "      <td>217256576</td>\n",
       "      <td>08/31/2020</td>\n",
       "      <td>20:45:00</td>\n",
       "      <td>BRONX</td>\n",
       "      <td>48</td>\n",
       "      <td>0</td>\n",
       "      <td>NaN</td>\n",
       "      <td>False</td>\n",
       "      <td>NaN</td>\n",
       "      <td>NaN</td>\n",
       "      <td>NaN</td>\n",
       "      <td>25-44</td>\n",
       "      <td>M</td>\n",
       "      <td>BLACK HISPANIC</td>\n",
       "      <td>997631</td>\n",
       "      <td>178916</td>\n",
       "      <td>40.657758</td>\n",
       "      <td>-73.951774</td>\n",
       "      <td>POINT (-73.95177405399994 40.65775788800004)</td>\n",
       "      <td>home</td>\n",
       "    </tr>\n",
       "    <tr>\n",
       "      <th>130</th>\n",
       "      <td>214947253</td>\n",
       "      <td>07/05/2020</td>\n",
       "      <td>20:35:00</td>\n",
       "      <td>BROOKLYN</td>\n",
       "      <td>71</td>\n",
       "      <td>0</td>\n",
       "      <td>GROCERY/BODEGA</td>\n",
       "      <td>False</td>\n",
       "      <td>NaN</td>\n",
       "      <td>NaN</td>\n",
       "      <td>NaN</td>\n",
       "      <td>25-44</td>\n",
       "      <td>M</td>\n",
       "      <td>BLACK</td>\n",
       "      <td>950233</td>\n",
       "      <td>171448</td>\n",
       "      <td>40.637205</td>\n",
       "      <td>-74.122567</td>\n",
       "      <td>POINT (-74.122566738 40.63720462200007)</td>\n",
       "      <td>home</td>\n",
       "    </tr>\n",
       "    <tr>\n",
       "      <th>767</th>\n",
       "      <td>209974084</td>\n",
       "      <td>02/21/2020</td>\n",
       "      <td>02:30:00</td>\n",
       "      <td>QUEENS</td>\n",
       "      <td>101</td>\n",
       "      <td>0</td>\n",
       "      <td>NaN</td>\n",
       "      <td>False</td>\n",
       "      <td>NaN</td>\n",
       "      <td>NaN</td>\n",
       "      <td>NaN</td>\n",
       "      <td>18-24</td>\n",
       "      <td>M</td>\n",
       "      <td>BLACK</td>\n",
       "      <td>1019271</td>\n",
       "      <td>245341</td>\n",
       "      <td>40.840018</td>\n",
       "      <td>-73.873434</td>\n",
       "      <td>POINT (-73.87343400399999 40.84001840900004)</td>\n",
       "      <td>home</td>\n",
       "    </tr>\n",
       "  </tbody>\n",
       "</table>\n",
       "</div>"
      ],
      "text/plain": [
       "      INCIDENT_KEY  OCCUR_DATE OCCUR_TIME      BORO  PRECINCT  \\\n",
       "1528     217256576  08/31/2020   20:45:00     BRONX        48   \n",
       "130      214947253  07/05/2020   20:35:00  BROOKLYN        71   \n",
       "767      209974084  02/21/2020   02:30:00    QUEENS       101   \n",
       "\n",
       "      JURISDICTION_CODE   LOCATION_DESC  STATISTICAL_MURDER_FLAG  \\\n",
       "1528                  0             NaN                    False   \n",
       "130                   0  GROCERY/BODEGA                    False   \n",
       "767                   0             NaN                    False   \n",
       "\n",
       "     PERP_AGE_GROUP PERP_SEX PERP_RACE VIC_AGE_GROUP VIC_SEX        VIC_RACE  \\\n",
       "1528            NaN      NaN       NaN         25-44       M  BLACK HISPANIC   \n",
       "130             NaN      NaN       NaN         25-44       M           BLACK   \n",
       "767             NaN      NaN       NaN         18-24       M           BLACK   \n",
       "\n",
       "      X_COORD_CD  Y_COORD_CD   Latitude  Longitude  \\\n",
       "1528      997631      178916  40.657758 -73.951774   \n",
       "130       950233      171448  40.637205 -74.122567   \n",
       "767      1019271      245341  40.840018 -73.873434   \n",
       "\n",
       "                          New Georeferenced Column  icon  \n",
       "1528  POINT (-73.95177405399994 40.65775788800004)  home  \n",
       "130        POINT (-74.122566738 40.63720462200007)  home  \n",
       "767   POINT (-73.87343400399999 40.84001840900004)  home  "
      ]
     },
     "execution_count": 8,
     "metadata": {},
     "output_type": "execute_result"
    }
   ],
   "source": [
    "df.sample(3)"
   ]
  },
  {
   "cell_type": "markdown",
   "id": "e2f9b773",
   "metadata": {},
   "source": [
    "## Time to map the dataset"
   ]
  },
  {
   "cell_type": "markdown",
   "id": "b3fca880",
   "metadata": {},
   "source": [
    "The usual Kepler.gl workflow is as follows:\n",
    "\n",
    "    1- Add data to the map  \n",
    "    2- Create data layers  \n",
    "    3- Add filters  \n",
    "    4- Customize your map settings  \n",
    "    5- Save your map as an image and export it as a html file\n"
   ]
  },
  {
   "cell_type": "code",
   "execution_count": 9,
   "id": "588fa6b4",
   "metadata": {
    "scrolled": false
   },
   "outputs": [
    {
     "name": "stdout",
     "output_type": "stream",
     "text": [
      "User Guide: https://docs.kepler.gl/docs/keplergl-jupyter\n"
     ]
    },
    {
     "data": {
      "application/vnd.jupyter.widget-view+json": {
       "model_id": "edebb4aaa0dd4cbaa61d3c6abc8efdfd",
       "version_major": 2,
       "version_minor": 0
      },
      "text/plain": [
       "KeplerGl(data={'crimes':       INCIDENT_KEY  OCCUR_DATE OCCUR_TIME      BORO  PRECINCT  \\\n",
       "0        221467363  …"
      ]
     },
     "metadata": {},
     "output_type": "display_data"
    }
   ],
   "source": [
    "#Create a basemap \n",
    "map_1= KeplerGl(height=700, weight = 500, data={'crimes': df})\n",
    "#show the map\n",
    "map_1"
   ]
  },
  {
   "cell_type": "markdown",
   "id": "c323cfe1",
   "metadata": {},
   "source": [
    "### Configuration\n",
    "Each map will have a configuration file in dictionary format. We can save this configuration and work with it later without having to touch the interface again."
   ]
  },
  {
   "cell_type": "code",
   "execution_count": null,
   "id": "8c8f7753",
   "metadata": {},
   "outputs": [],
   "source": [
    "# we can store the config file in a variable to modify the map configuration latter. \n",
    "config = map_1.config"
   ]
  },
  {
   "cell_type": "code",
   "execution_count": null,
   "id": "4497ed51",
   "metadata": {},
   "outputs": [],
   "source": [
    "config"
   ]
  },
  {
   "cell_type": "code",
   "execution_count": null,
   "id": "280fc678",
   "metadata": {},
   "outputs": [],
   "source": [
    "config.keys()"
   ]
  },
  {
   "cell_type": "code",
   "execution_count": null,
   "id": "e9b5a4e2",
   "metadata": {},
   "outputs": [],
   "source": [
    "config.get(\"config\").keys()"
   ]
  },
  {
   "cell_type": "code",
   "execution_count": null,
   "id": "151224f0",
   "metadata": {},
   "outputs": [],
   "source": [
    "config.get(\"config\").get(\"visState\") #sacamos el diccionario con los parametros de visulización del mapa"
   ]
  },
  {
   "cell_type": "code",
   "execution_count": null,
   "id": "46cab898",
   "metadata": {},
   "outputs": [],
   "source": [
    "config.get(\"config\").get(\"mapState\")"
   ]
  },
  {
   "cell_type": "code",
   "execution_count": null,
   "id": "4ccdc88a",
   "metadata": {},
   "outputs": [],
   "source": [
    "config.get(\"config\").get(\"mapStyle\")"
   ]
  },
  {
   "cell_type": "code",
   "execution_count": null,
   "id": "3b123e93",
   "metadata": {},
   "outputs": [],
   "source": [
    "config"
   ]
  },
  {
   "cell_type": "markdown",
   "id": "5b8f079a",
   "metadata": {},
   "source": [
    "### Save the configuration in .py file"
   ]
  },
  {
   "cell_type": "code",
   "execution_count": null,
   "id": "55eaa7c4",
   "metadata": {},
   "outputs": [],
   "source": [
    "# Save map_1 config to a file\n",
    "with open('hex_config.py', 'w') as f:\n",
    "    f.write('config = {}'.format(map_1.config))\n"
   ]
  },
  {
   "cell_type": "code",
   "execution_count": null,
   "id": "8e021fa9",
   "metadata": {
    "scrolled": false
   },
   "outputs": [],
   "source": [
    "map_2= KeplerGl(height=700, data={'crimes': df}, config=config)\n",
    "map_2"
   ]
  },
  {
   "cell_type": "markdown",
   "id": "44a596eb",
   "metadata": {},
   "source": [
    "### Save the map "
   ]
  },
  {
   "cell_type": "markdown",
   "id": "1e1c7ea7",
   "metadata": {},
   "source": [
    "# Time series in Kepler"
   ]
  },
  {
   "cell_type": "markdown",
   "id": "0f26d0df",
   "metadata": {},
   "source": [
    "Besides geospatial data, Kepler.gl’s can handle **spatiotemporal** data and add time playbacks to visualize data evolution over time. This is enabled by the “filters” concept in Kepler.gl. "
   ]
  },
  {
   "cell_type": "markdown",
   "id": "f1b6a16c",
   "metadata": {},
   "source": [
    "For this example we are going to use a database of taxi movements in New York. The objective is to represent all the taxi movements in this city throughout the day. You can download the dateset [here](https://www1.nyc.gov/site/tlc/about/tlc-trip-record-data.page)"
   ]
  },
  {
   "cell_type": "code",
   "execution_count": null,
   "id": "5e3d3533",
   "metadata": {},
   "outputs": [],
   "source": [
    "df_1 = pd.read_csv(\"../Input/nytrips.csv\")\n",
    "df_1.head()"
   ]
  },
  {
   "cell_type": "markdown",
   "id": "c80569bf",
   "metadata": {},
   "source": [
    "##### To add data to the map, also we can use the add_data method. \n",
    "   > **1-** Load a basemap with the `height` and `width` parameters \n",
    "    \n",
    "   > **2-** Use the `add_data` method. In this method we need to specify:  \n",
    "        - data ==> the target dataframe  \n",
    "        - name ==> the map's name  \n"
   ]
  },
  {
   "cell_type": "code",
   "execution_count": null,
   "id": "3551e507",
   "metadata": {},
   "outputs": [],
   "source": [
    "map_3 = KeplerGl(height=600, width=800)\n",
    "map_3.add_data(data=df_1, name='trips' )"
   ]
  },
  {
   "cell_type": "code",
   "execution_count": null,
   "id": "a279e693",
   "metadata": {
    "scrolled": false
   },
   "outputs": [],
   "source": [
    "map_3"
   ]
  },
  {
   "cell_type": "markdown",
   "id": "769024b3",
   "metadata": {},
   "source": [
    "# Uk movements\n",
    "\n",
    "In this example we will see the commute patterns in th UK. A origin destination map using 3D **arcs** to show commute patterns of England and Wales residence. \n",
    "\n",
    "Also,  we will see how to use the **brush** parameter. With this parameter we will establish a radius that will act as a filter. Placing the mouse over a point will only return the data that is within the radius that we have specified."
   ]
  },
  {
   "cell_type": "code",
   "execution_count": null,
   "id": "ec336caf",
   "metadata": {},
   "outputs": [],
   "source": [
    "df_2= pd.read_csv(\"../Input/uk_mov.csv\")\n",
    "df_2.head()"
   ]
  },
  {
   "cell_type": "code",
   "execution_count": null,
   "id": "1c7c0564",
   "metadata": {},
   "outputs": [],
   "source": [
    "# create the basemap and add the data\n",
    "map_2 = KeplerGl(height=600, width=800)\n",
    "map_2.add_data(data=df_2, name='uk')"
   ]
  },
  {
   "cell_type": "code",
   "execution_count": null,
   "id": "31752ebe",
   "metadata": {
    "scrolled": false
   },
   "outputs": [],
   "source": [
    "map_2"
   ]
  },
  {
   "cell_type": "code",
   "execution_count": null,
   "id": "86a53ce6",
   "metadata": {},
   "outputs": [],
   "source": [
    "# Save map_2 config to a file\n",
    "with open('taxi_config.py', 'w') as f:\n",
    "    f.write('config = {}'.format(map_2.config))\n"
   ]
  },
  {
   "cell_type": "code",
   "execution_count": null,
   "id": "1ead5ff4",
   "metadata": {},
   "outputs": [],
   "source": [
    "commute_config = map_2.config\n",
    "commute_config.keys()"
   ]
  },
  {
   "cell_type": "code",
   "execution_count": null,
   "id": "4fcf0b83",
   "metadata": {},
   "outputs": [],
   "source": [
    "map_2.save_to_html(file_name = \"uk_mov_2.html\", read_only = False)"
   ]
  },
  {
   "cell_type": "code",
   "execution_count": null,
   "id": "8a185f7b",
   "metadata": {},
   "outputs": [],
   "source": []
  }
 ],
 "metadata": {
  "interpreter": {
   "hash": "db7de0bc0aab179661c0d8ef69cca55c2d437e4ab157a2cc4ba69a84a451c4ad"
  },
  "kernelspec": {
   "display_name": "kernel",
   "language": "python",
   "name": "kernel"
  },
  "language_info": {
   "codemirror_mode": {
    "name": "ipython",
    "version": 3
   },
   "file_extension": ".py",
   "mimetype": "text/x-python",
   "name": "python",
   "nbconvert_exporter": "python",
   "pygments_lexer": "ipython3",
   "version": "3.8.5"
  },
  "toc": {
   "base_numbering": 1,
   "nav_menu": {},
   "number_sections": true,
   "sideBar": true,
   "skip_h1_title": false,
   "title_cell": "Table of Contents",
   "title_sidebar": "Contents",
   "toc_cell": true,
   "toc_position": {},
   "toc_section_display": true,
   "toc_window_display": false
  },
  "varInspector": {
   "cols": {
    "lenName": 16,
    "lenType": 16,
    "lenVar": 40
   },
   "kernels_config": {
    "python": {
     "delete_cmd_postfix": "",
     "delete_cmd_prefix": "del ",
     "library": "var_list.py",
     "varRefreshCmd": "print(var_dic_list())"
    },
    "r": {
     "delete_cmd_postfix": ") ",
     "delete_cmd_prefix": "rm(",
     "library": "var_list.r",
     "varRefreshCmd": "cat(var_dic_list()) "
    }
   },
   "position": {
    "height": "716px",
    "left": "1550px",
    "right": "20px",
    "top": "120px",
    "width": "350px"
   },
   "types_to_exclude": [
    "module",
    "function",
    "builtin_function_or_method",
    "instance",
    "_Feature"
   ],
   "window_display": false
  }
 },
 "nbformat": 4,
 "nbformat_minor": 5
}
